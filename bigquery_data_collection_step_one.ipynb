{
 "cells": [
  {
   "cell_type": "markdown",
   "metadata": {},
   "source": [
    "# Collecting Threads "
   ]
  },
  {
   "cell_type": "code",
   "execution_count": null,
   "metadata": {},
   "outputs": [],
   "source": [
    "import bq_helper\n",
    "from bq_helper import BigQueryHelper\n",
    "# https://www.kaggle.com/sohier/introduction-to-the-bq-helper-package\n",
    "stackOverflow = bq_helper.BigQueryHelper(active_project=\"bigquery-public-data\",\n",
    "                                   dataset_name=\"stackoverflow\")"
   ]
  },
  {
   "cell_type": "code",
   "execution_count": null,
   "metadata": {},
   "outputs": [],
   "source": [
    "keywords_to_search = [\n",
    "    'mysql', 'postgresql', 'mariadb', 'mongodb', 'sqlite', 'redis', 'cassandra', 'cockroachdb', 'couchdb', 'neo4j', # FOSS DB\n",
    "    'oracle database', 'microsoft sql server', 'ibm db2', # CSPS OS\n",
    "    'linux', 'freebsd', 'openbsd', 'netbsd', 'android', # FOSS OS\n",
    "    'microsoft windows', 'macos', 'ios', # CSPS OS\n",
    "    'apache cloudstack', 'opennebula', 'proxmox ve', ' xen orchestra', # FOSS Virtualization\n",
    "    'hyper-v', 'vmware workstation', 'vmware fusion'# CSPS Virtualization\n",
    "] "
   ]
  },
  {
   "cell_type": "code",
   "execution_count": null,
   "metadata": {},
   "outputs": [],
   "source": [
    "# Get posts with comments and answers\n",
    "def getQuery(keyword: str):\n",
    "    return f\"\"\"\n",
    "        WITH DockerPosts AS (\n",
    "          SELECT id, title, body, tags, creation_date,\n",
    "          FROM bigquery-public-data.stackoverflow.stackoverflow_posts\n",
    "          WHERE \n",
    "            (LOWER(title) LIKE '%{keyword}%' OR\n",
    "             LOWER(body) LIKE '%{keyword}%' OR\n",
    "             LOWER(tags) LIKE '%{keyword}%')\n",
    "             AND score > 0  \n",
    "          LIMIT 500000\n",
    "        )\n",
    "        \n",
    "        SELECT * FROM (\n",
    "          SELECT \n",
    "            dp.id AS post_id,\n",
    "            dp.title AS post_title,  -- This is STRING\n",
    "            dp.creation_date AS post_creation_date,\n",
    "            'Post' AS content_type,\n",
    "            dp.body AS content,\n",
    "            CAST(NULL AS STRING) AS parent_post_id  -- Ensure STRING type\n",
    "          FROM DockerPosts dp\n",
    "        \n",
    "          UNION ALL\n",
    "        \n",
    "          SELECT \n",
    "            pa.id AS post_id,\n",
    "            CAST(NULL AS STRING) AS post_title,  -- Convert to STRING\n",
    "            pa.creation_date AS post_creation_date,\n",
    "            'Answer' AS content_type,\n",
    "            pa.body AS content,\n",
    "            CAST(pa.parent_id AS STRING) AS parent_post_id  -- Ensure STRING type\n",
    "          FROM DockerPosts dp\n",
    "          JOIN bigquery-public-data.stackoverflow.posts_answers pa \n",
    "            ON dp.id = pa.parent_id \n",
    "          WHERE pa.score > 0 \n",
    "        ) \n",
    "        \n",
    "        UNION ALL\n",
    "        \n",
    "        SELECT * FROM (\n",
    "          SELECT \n",
    "            c.id AS post_id,\n",
    "            CAST(NULL AS STRING) AS post_title,  -- Convert to STRING\n",
    "            c.creation_date AS post_creation_date,\n",
    "            'Comment' AS content_type,\n",
    "            c.text AS content,\n",
    "            CAST(c.post_id AS STRING) AS parent_post_id  -- Ensure STRING type\n",
    "          FROM DockerPosts dp\n",
    "          JOIN bigquery-public-data.stackoverflow.comments c \n",
    "            ON dp.id = c.post_id\n",
    "          WHERE c.score > 0  \n",
    "        ) \n",
    "        \n",
    "        ORDER BY post_creation_date;\n",
    "        \n",
    "        \n",
    "        \"\"\""
   ]
  },
  {
   "cell_type": "code",
   "execution_count": null,
   "metadata": {},
   "outputs": [],
   "source": [
    "for keyword in keywords_to_search:\n",
    "    print(keyword)\n",
    "    query = getQuery(keyword) \n",
    "    response = stackOverflow.query_to_pandas_safe(query,max_gb_scanned=71)\n",
    "    response.to_csv(f'{keyword}_posts_with_comments_answers.csv', index=False)"
   ]
  }
 ],
 "metadata": {
  "kernelspec": {
   "display_name": "Python 3",
   "language": "python",
   "name": "python3"
  },
  "language_info": {
   "name": "python",
   "version": "3.11.1"
  }
 },
 "nbformat": 4,
 "nbformat_minor": 2
}
